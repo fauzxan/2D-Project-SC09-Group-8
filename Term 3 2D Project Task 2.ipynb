{
 "cells": [
  {
   "cell_type": "code",
   "execution_count": 10,
   "metadata": {},
   "outputs": [],
   "source": [
    "import pandas as pd\n",
    "import seaborn as sns\n",
    "import matplotlib.pyplot as plt\n",
    "import numpy as np\n",
    "import os\n",
    "import math"
   ]
  },
  {
   "cell_type": "code",
   "execution_count": 11,
   "metadata": {},
   "outputs": [
    {
     "name": "stdout",
     "output_type": "stream",
     "text": [
      "This is original data frame: \n",
      "        iso_code continent     location        date total_cases new_cases  \\\n",
      "0           AFG      Asia  Afghanistan  2020-02-24         5.0       5.0   \n",
      "1           AFG      Asia  Afghanistan  2020-02-25         5.0       0.0   \n",
      "2           AFG      Asia  Afghanistan  2020-02-26         5.0       0.0   \n",
      "3           AFG      Asia  Afghanistan  2020-02-27         5.0       0.0   \n",
      "4           AFG      Asia  Afghanistan  2020-02-28         5.0       0.0   \n",
      "...         ...       ...          ...         ...         ...       ...   \n",
      "135576      ZWE    Africa     Zimbabwe  2021-11-20    133615.0      22.0   \n",
      "135577      ZWE    Africa     Zimbabwe  2021-11-21    133647.0      32.0   \n",
      "135578      ZWE    Africa     Zimbabwe  2021-11-22    133674.0      27.0   \n",
      "135579      ZWE    Africa     Zimbabwe  2021-11-23    133674.0       0.0   \n",
      "135580      ZWE    Africa     Zimbabwe  2021-11-24    133747.0      73.0   \n",
      "\n",
      "       new_cases_smoothed total_deaths new_deaths new_deaths_smoothed  ...  \\\n",
      "0                     NaN          NaN        NaN                 NaN  ...   \n",
      "1                     NaN          NaN        NaN                 NaN  ...   \n",
      "2                     NaN          NaN        NaN                 NaN  ...   \n",
      "3                     NaN          NaN        NaN                 NaN  ...   \n",
      "4                     NaN          NaN        NaN                 NaN  ...   \n",
      "...                   ...          ...        ...                 ...  ...   \n",
      "135576             31.714       4699.0        0.0               0.429  ...   \n",
      "135577             31.286       4699.0        0.0               0.429  ...   \n",
      "135578             33.714       4699.0        0.0               0.286  ...   \n",
      "135579             24.143       4699.0        0.0               0.143  ...   \n",
      "135580             27.143       4703.0        4.0               0.571  ...   \n",
      "\n",
      "       female_smokers male_smokers handwashing_facilities  \\\n",
      "0                 NaN          NaN                 37.746   \n",
      "1                 NaN          NaN                 37.746   \n",
      "2                 NaN          NaN                 37.746   \n",
      "3                 NaN          NaN                 37.746   \n",
      "4                 NaN          NaN                 37.746   \n",
      "...               ...          ...                    ...   \n",
      "135576            1.6         30.7                 36.791   \n",
      "135577            1.6         30.7                 36.791   \n",
      "135578            1.6         30.7                 36.791   \n",
      "135579            1.6         30.7                 36.791   \n",
      "135580            1.6         30.7                 36.791   \n",
      "\n",
      "       hospital_beds_per_thousand life_expectancy human_development_index  \\\n",
      "0                             0.5           64.83                   0.511   \n",
      "1                             0.5           64.83                   0.511   \n",
      "2                             0.5           64.83                   0.511   \n",
      "3                             0.5           64.83                   0.511   \n",
      "4                             0.5           64.83                   0.511   \n",
      "...                           ...             ...                     ...   \n",
      "135576                        1.7           61.49                   0.571   \n",
      "135577                        1.7           61.49                   0.571   \n",
      "135578                        1.7           61.49                   0.571   \n",
      "135579                        1.7           61.49                   0.571   \n",
      "135580                        1.7           61.49                   0.571   \n",
      "\n",
      "       excess_mortality_cumulative_absolute excess_mortality_cumulative  \\\n",
      "0                                       NaN                         NaN   \n",
      "1                                       NaN                         NaN   \n",
      "2                                       NaN                         NaN   \n",
      "3                                       NaN                         NaN   \n",
      "4                                       NaN                         NaN   \n",
      "...                                     ...                         ...   \n",
      "135576                                  NaN                         NaN   \n",
      "135577                                  NaN                         NaN   \n",
      "135578                                  NaN                         NaN   \n",
      "135579                                  NaN                         NaN   \n",
      "135580                                  NaN                         NaN   \n",
      "\n",
      "       excess_mortality excess_mortality_cumulative_per_million  \n",
      "0                   NaN                                     NaN  \n",
      "1                   NaN                                     NaN  \n",
      "2                   NaN                                     NaN  \n",
      "3                   NaN                                     NaN  \n",
      "4                   NaN                                     NaN  \n",
      "...                 ...                                     ...  \n",
      "135576              NaN                                     NaN  \n",
      "135577              NaN                                     NaN  \n",
      "135578              NaN                                     NaN  \n",
      "135579              NaN                                     NaN  \n",
      "135580              NaN                                     NaN  \n",
      "\n",
      "[135581 rows x 67 columns]\n"
     ]
    }
   ],
   "source": [
    "df=pd.read_csv('https://covid.ourworldindata.org/data/owid-covid-data.csv',dtype='unicode')# code to convert the csv file into dataframe object in python\n",
    "columns_from_main=['location','date','new_cases','total_vaccinations',\"population\"]#these are the columns that we will be considering\n",
    "print (\"This is original data frame: \\n\",df)"
   ]
  },
  {
   "cell_type": "markdown",
   "metadata": {},
   "source": [
    "# Filtering the data\n",
    "\n",
    "\n",
    "\n",
    "<p>1) Recent 180 days data <br>\n",
    "    2) Selecting countries' data <br>\n",
    "3) Removing all the rows with NaN values and negative values</p>"
   ]
  },
  {
   "cell_type": "code",
   "execution_count": 12,
   "metadata": {},
   "outputs": [
    {
     "name": "stdout",
     "output_type": "stream",
     "text": [
      "location                      object\n",
      "date                  datetime64[ns]\n",
      "new_cases                      int16\n",
      "total_vaccinations             int32\n",
      "population                     int32\n",
      "dtype: object\n",
      "720\n",
      "The locations under observation are:\n",
      "       location       date  new_cases  total_vaccinations  population\n",
      "62104    Japan 2021-05-13       6874             6695597   126050796\n",
      "62105    Japan 2021-05-14       6262             7116487   126050796\n",
      "62106    Japan 2021-05-15       6417             7287316   126050796\n",
      "62107    Japan 2021-05-16       5256             7495054   126050796\n",
      "62108    Japan 2021-05-17       3677             8102078   126050796\n",
      "...        ...        ...        ...                 ...         ...\n",
      "62276    Japan 2021-11-01         84           190022071   126050796\n",
      "62278    Japan 2021-11-03        264           190595761   126050796\n",
      "62279    Japan 2021-11-04        158           191044946   126050796\n",
      "62282    Japan 2021-11-07        157           192078918   126050796\n",
      "62283    Japan 2021-11-08        100           192610138   126050796\n",
      "\n",
      "[144 rows x 5 columns]\n"
     ]
    }
   ],
   "source": [
    "#the following 2 lines help filter out the last 180 dyas preceding 8th of november 2021\n",
    "df['date']=pd.to_datetime(df['date'])\n",
    "mask=(df['date']>='5/13/2021')&(df['date']<='11/8/2021')\n",
    "df_location=df.loc[(mask)&(df['location']=='Japan'),columns_from_main]\n",
    "\n",
    "\n",
    "#the following 3 lines of code help drop all the NaN values from the specified columns\n",
    "df_location.dropna(subset=['total_vaccinations'],inplace=True)#drops NaN from total_vaccinations column\n",
    "df_location.dropna(subset=['population'],inplace=True)#drops NaN from population column\n",
    "df_location.dropna(subset=['new_cases'],inplace=True)#drops NaN from new_cases column\n",
    "\n",
    "#convert the string value to a number:\n",
    "df_location[\"new_cases\"]=pd.to_numeric(df_location[\"new_cases\"], downcast='integer')\n",
    "df_location['total_vaccinations']=pd.to_numeric(df_location['total_vaccinations'], downcast='integer')\n",
    "df_location['population']=pd.to_numeric(df_location['population'], downcast='integer')\n",
    "print(df_location.dtypes)\n",
    "\n",
    "#This is to filter out the data from countries such that the new_cases and the total_vaccinations is greater than 0 \n",
    "mask2=(df_location[\"new_cases\"] > 0)&(df_location['total_vaccinations'] > 0)\n",
    "df_location=df_location.loc[mask2,columns_from_main]\n",
    "\n",
    "print(df_location.size)\n",
    "print(\"The locations under observation are:\\n\",df_location)\n"
   ]
  },
  {
   "cell_type": "markdown",
   "metadata": {},
   "source": []
  },
  {
   "cell_type": "markdown",
   "metadata": {},
   "source": [
    "# Collections of Functions"
   ]
  },
  {
   "cell_type": "code",
   "execution_count": 13,
   "metadata": {},
   "outputs": [],
   "source": [
    "#this function helps create two separate dataframes for each: target and feature\n",
    "def get_features_targets(df, feature_names, target_names):\n",
    "    df_feature=df[feature_names]\n",
    "    df_target=df[target_names]\n",
    "    return df_feature, df_target\n",
    "\n",
    "#Helps normalize the data \n",
    "def normalize_z(df):\n",
    "    return (df-df.mean())/df.std()\n",
    "\n",
    "#converts the features data frame into a numpy array and then converts it into a column vector and adds a column of 1s at the beggining\n",
    "def prepare_feature(df_feature):\n",
    "    df_feature=df_feature.to_numpy()\n",
    "    c_ones=np.ones((df_feature.shape[0],1))\n",
    "    df_feature=np.hstack((c_ones,df_feature))\n",
    "    return df_feature\n",
    "\n",
    "#converts the targets data frame into a numpy array\n",
    "def prepare_target(df_target):\n",
    "    df_target=df_target.to_numpy()\n",
    "    return df_target\n",
    "\n",
    "#normalizes the features using z normalization \n",
    "def predict(df_feature, beta):\n",
    "    X=prepare_feature(normalize_z(df_feature))\n",
    "    return predict_norm(X,beta)\n",
    "\n",
    "#helps calculate the straight line equation after standardization\n",
    "def predict_norm(X, beta):\n",
    "    return np.matmul(X,beta)\n",
    "\n",
    "#splits the data into training set and testing set. The default standard to split the data set is to slice it in half\n",
    "def split_data(df_feature, df_target, random_state=None, test_size=0.5):\n",
    "    indexes=df_feature.index\n",
    "    if random_state!=None:\n",
    "        np.random.seed(random_state)\n",
    "    num_rows = len(indexes)\n",
    "    k = int(test_size * num_rows)\n",
    "    test_indices = np.random.choice(indexes, k, replace = False)\n",
    "    train_indices = set(indexes) - set(test_indices)\n",
    "    \n",
    "    df_feature_train = df_feature.loc[train_indices, :]\n",
    "    df_feature_test = df_feature.loc[test_indices, :]\n",
    "    df_target_train = df_target.loc[train_indices, :]\n",
    "    df_target_test = df_target.loc[test_indices, :]\n",
    "    return df_feature_train, df_feature_test, df_target_train, df_target_test\n",
    "\n",
    "#function to calculate the coefficient of determination\n",
    "def r2_score(y, ypred):\n",
    "    actual_mean = np.mean(y)\n",
    "    # since y, ypred are both nparray, y-ypred does element wise SUB\n",
    "    ssres = np.sum((y-ypred)**2)\n",
    "    sstot = np.sum((y-actual_mean)**2)\n",
    "    return 1 - (ssres/sstot)\n",
    "\n",
    "#function to calculate the mean squared error\n",
    "def mean_squared_error(target, pred):\n",
    "    num_of_samples = target.shape[0] # number of samples == number of rows in target_y\n",
    "    return (1/num_of_samples) * np.sum((target-pred)**2)\n",
    "\n",
    "#function to calculate the gradient descent\n",
    "def gradient_descent(X, y, beta, alpha, num_iters):\n",
    "    # For linreg, X is a n by 2 matrix, beta is a 2 by 1 vector, y (actual_target) n by 1 vector, alpha is Float, num_iters is an Int\n",
    "    # beta -> initial guess of beta \n",
    "    ### BEGIN SOLUTION\n",
    "    number_of_samples = X.shape[0]\n",
    "    J_storage = np.zeros((num_iters, 1))\n",
    "    # iterate the grad desc until num_iters\n",
    "    # or, until convergence (other case)\n",
    "    for i in range(num_iters):\n",
    "        # this derivate is derived from the squared error function \n",
    "        # STEP 2\n",
    "        # Y_pred = X x Beta\n",
    "        # diff Y_pred/Beta --> X.T x (X x Beta) \n",
    "        # transpose X and put on the left hand side of matrix mul\n",
    "        derivative_cost_wrt_Beta = (1/number_of_samples) * np.matmul(X.T, (np.matmul(X, beta) - y))\n",
    "        # update beta\n",
    "        # STEP 3\n",
    "        beta = beta - alpha * derivative_cost_wrt_Beta\n",
    "        J_storage[i] = compute_cost(X, y, beta)\n",
    "    ### END SOLUTION\n",
    "    return beta, J_storage\n",
    "\n",
    "#function to calculate the cost function\n",
    "def compute_cost(X, y, beta):\n",
    "    # for LinReg: X is n by 2, y is a vector of n elements, beta is 2 by 1\n",
    "    J = 0\n",
    "    ### BEGIN SOLUTION\n",
    "    number_of_samples = X.shape[0]\n",
    "    # Y_pred - Y_actual\n",
    "    # Y_pred = Xb\n",
    "    Y_pred = np.matmul(X, beta)\n",
    "    diff_between_pred_actual_y = Y_pred - y\n",
    "    diff_between_pred_actual_y_sq = np.matmul(diff_between_pred_actual_y.T, diff_between_pred_actual_y)\n",
    "    J = (1/(2*number_of_samples)) * diff_between_pred_actual_y_sq\n",
    "    ### END SOLUTION\n",
    "    # J is an error, it is a scalar, so extract the only element of J that was a numpy array\n",
    "    return J[0][0]\n",
    "\n",
    "#returns the log value \n",
    "def logarithm(df_target, target_name):\n",
    "    ### BEGIN SOLUTION\n",
    "    df_out = df_target.copy()\n",
    "    df_out.loc[:, target_name] = df_target[target_name].apply(lambda x: math.log(x))\n",
    "    ### END SOLUTION\n",
    "    return df_out"
   ]
  },
  {
   "cell_type": "markdown",
   "metadata": {},
   "source": [
    "# Splitting data\n",
    "### Target: \n",
    "#### $$new\\_cases$$\n",
    "### Feature: \n",
    "#### $$\\frac{total\\_vaccinations}{total\\_population}$$"
   ]
  },
  {
   "cell_type": "code",
   "execution_count": 14,
   "metadata": {},
   "outputs": [
    {
     "name": "stdout",
     "output_type": "stream",
     "text": [
      "Beta1 is equal to 5393.958866010651\n",
      "Beta2 is equal to 560.7813009836627\n"
     ]
    },
    {
     "data": {
      "text/plain": [
       "[<matplotlib.lines.Line2D at 0x144c53e6250>]"
      ]
     },
     "execution_count": 14,
     "metadata": {},
     "output_type": "execute_result"
    },
    {
     "data": {
      "image/png": "[encoded data removed]",
      "text/plain": [
       "<Figure size 432x288 with 1 Axes>"
      ]
     },
     "metadata": {
      "needs_background": "light"
     },
     "output_type": "display_data"
    }
   ],
   "source": [
    "#this line creates a new column called total_vaccinations\n",
    "df_location.loc[:,\"total_vaccinations/population\"] = df_location['total_vaccinations'].div(df_location['population'])\n",
    "features=['total_vaccinations/population']\n",
    "target=['new_cases']\n",
    "df_features,df_target=get_features_targets(df_location,features,target)\n",
    "\n",
    "#calls the split_data split the data into training set and testing set\n",
    "df_features_train, df_features_test, df_target_train, df_target_test = split_data(df_features,df_target,random_state=100,test_size=0.3)\n",
    "df_features_train_z=normalize_z(df_features_train)\n",
    "\n",
    "X=prepare_feature(df_features_train_z)\n",
    "target=prepare_target(df_target_train)\n",
    "\n",
    "iterations=1500\n",
    "alpha=0.01\n",
    "beta=np.zeros((2,1))\n",
    "\n",
    "#calls the gradient descent function and stores the value of the slope and the intercept in a variable called beta\n",
    "beta,J_storage=gradient_descent(X,target,beta,alpha,iterations)\n",
    "#to calculate the predicted value\n",
    "pred=predict(df_features_test,beta)\n",
    "print(\"Beta1 is equal to\",beta[0][0])\n",
    "print(\"Beta2 is equal to\",beta[1][0])\n",
    "plt.scatter(df_features_test, df_target_test)\n",
    "plt.plot(df_features_test, pred, color=\"orange\")"
   ]
  },
  {
   "cell_type": "markdown",
   "metadata": {},
   "source": [
    "## R2 Coefficient of Determination and Mean Squared Error"
   ]
  },
  {
   "cell_type": "code",
   "execution_count": 15,
   "metadata": {},
   "outputs": [
    {
     "name": "stdout",
     "output_type": "stream",
     "text": [
      "Coefficient of Determination: -0.018703407496614588\n",
      "Mean Squared Error: 31785544.419363298\n"
     ]
    }
   ],
   "source": [
    "#converting the target into a numpy array and storing it inside a variable called the_target\n",
    "the_target = prepare_target(df_target_test)\n",
    "#to calculate the coefficient of deteremination\n",
    "r2= r2_score(the_target, pred)\n",
    "print(\"Coefficient of Determination:\",r2)\n",
    "#to calculate the mean_squared error\n",
    "mse = mean_squared_error(the_target, pred)\n",
    "print(\"Mean Squared Error:\",mse)"
   ]
  },
  {
   "cell_type": "markdown",
   "metadata": {},
   "source": [
    "# Improvement\n",
    "#### Using $$lnY$$ instead of $$Y$$ and applying a limited data range for $$(x>0.8)$$\n"
   ]
  },
  {
   "cell_type": "code",
   "execution_count": 16,
   "metadata": {},
   "outputs": [
    {
     "name": "stdout",
     "output_type": "stream",
     "text": [
      "Beta0 and beta1 is equal to: \n",
      "[[ 7.95685278]\n",
      " [-0.38173742]]\n",
      "R2 Coefficient of Determination:\n",
      "0.04207476395799015\n",
      "Mean Squared Error:\n",
      "1.7358226166143007\n",
      "Beta1 is equal to 7.956852780847363\n",
      "Beta2 is equal to -0.38173742309552106\n"
     ]
    },
    {
     "data": {
      "text/plain": [
       "[<matplotlib.lines.Line2D at 0x144ce6b6ca0>]"
      ]
     },
     "execution_count": 16,
     "metadata": {},
     "output_type": "execute_result"
    },
    {
     "data": {
      "image/png": "[encoded data removed]",
      "text/plain": [
       "<Figure size 432x288 with 1 Axes>"
      ]
     },
     "metadata": {
      "needs_background": "light"
     },
     "output_type": "display_data"
    }
   ],
   "source": [
    "#re-preforming the process carried out in the previous step given the above improvement\n",
    "\n",
    "df_location.loc[:,\"total_vaccinations/population\"] = df_location['total_vaccinations'].div(df_location['population'])\n",
    "features=['total_vaccinations/population']\n",
    "target=['new_cases']\n",
    "df_features,df_target=get_features_targets(df_location,features,target)\n",
    "# Try to set the range for x\n",
    "\n",
    "\n",
    "if df_location['location'].all()=='Japan':\n",
    "    df_features_improved = df_features.loc[df_features[\"total_vaccinations/population\"]>0.8]\n",
    "else:\n",
    "    df_features_improved = df_features\n",
    "df_target_improved = df_target.loc[set(df_features_improved.index),:]\n",
    "#print(df_features_improved)\n",
    "#myplot = sns.scatterplot(x=\"total_vaccinations/population\", y=\"new_cases\", data=df_location)\n",
    "df_features_train, df_features_test, df_target_train, df_target_test = split_data(df_features_improved,df_target_improved,random_state=100,test_size=0.3)\n",
    "df_features_train_z=normalize_z(df_features_train)\n",
    "#Apply logrithm to change y to lny\n",
    "\n",
    "df_target_train = logarithm(df_target_train, \"new_cases\")\n",
    "df_target_test = logarithm(df_target_test, \"new_cases\")\n",
    "\n",
    "X=prepare_feature(df_features_train_z)\n",
    "Y=prepare_target(df_target_train)\n",
    "#print(df_target_test)\n",
    "iterations=1500\n",
    "alpha=0.01\n",
    "\n",
    "df_location.loc[:,\"total_vaccinations/population\"] = df_location['total_vaccinations'].div(df_location['population'])\n",
    "features=['total_vaccinations/population']\n",
    "target=['new_cases']\n",
    "df_features,df_target=get_features_targets(df_location,features,target)\n",
    "# Try to set the range for x\n",
    "\n",
    "\n",
    "if df_location['location'].all()=='Japan':\n",
    "    df_features_improved = df_features.loc[df_features[\"total_vaccinations/population\"]>0.8]\n",
    "else:\n",
    "    df_features_improved = df_features\n",
    "df_target_improved = df_target.loc[set(df_features_improved.index),:]\n",
    "#print(df_features_improved)\n",
    "#myplot = sns.scatterplot(x=\"total_vaccinations/population\", y=\"new_cases\", data=df_location)\n",
    "df_features_train, df_features_test, df_target_train, df_target_test = split_data(df_features_improved,df_target_improved,random_state=100,test_size=0.3)\n",
    "df_features_train_z=normalize_z(df_features_train)\n",
    "#Apply logarithm to change y to lny\n",
    "\n",
    "df_target_train = logarithm(df_target_train, \"new_cases\")\n",
    "df_target_test = logarithm(df_target_test, \"new_cases\")\n",
    "\n",
    "X=prepare_feature(df_features_train_z)\n",
    "Y=prepare_target(df_target_train)\n",
    "#print(df_target_test)\n",
    "iterations=1500\n",
    "alpha=0.01\n",
    "beta=np.zeros((2,1))\n",
    "\n",
    "beta,J_storage=gradient_descent(X,Y,beta,alpha,iterations)\n",
    "pred=predict(df_features_test,beta)\n",
    "print(\"Beta0 and beta1 is equal to: \")\n",
    "print(beta)\n",
    "\n",
    "\n",
    "plt.scatter(df_features_test, df_target_test)\n",
    "plt.plot(df_features_test, pred, color=\"orange\")\n",
    "\n",
    "the_target = prepare_target(df_target_test)\n",
    "r2= r2_score(the_target, pred)\n",
    "print(\"R2 Coefficient of Determination:\")\n",
    "print(r2)\n",
    "mse = mean_squared_error(the_target, pred)\n",
    "print(\"Mean Squared Error:\")\n",
    "print(mse)\n",
    "beta=np.zeros((2,1))\n",
    "\n",
    "beta,J_storage=gradient_descent(X,Y,beta,alpha,iterations)\n",
    "pred=predict(df_features_test,beta)\n",
    "print(\"Beta1 is equal to\",beta[0][0])\n",
    "print(\"Beta2 is equal to\",beta[1][0])\n",
    "plt.scatter(df_features_test, df_target_test)\n",
    "plt.plot(df_features_test, pred, color=\"orange\")"
   ]
  },
  {
   "cell_type": "code",
   "execution_count": 17,
   "metadata": {},
   "outputs": [
    {
     "name": "stdout",
     "output_type": "stream",
     "text": [
      "R2 Coefficient of Determination: 0.04207476395799015\n",
      "Mean Squared Error: 1.7358226166143007\n"
     ]
    }
   ],
   "source": [
    "#coefficient of determination and mean squared error of the improved model\n",
    "the_target = prepare_target(df_target_test)\n",
    "r2= r2_score(the_target, pred)\n",
    "print(\"R2 Coefficient of Determination:\",r2)\n",
    "mse = mean_squared_error(the_target, pred)\n",
    "print(\"Mean Squared Error:\",mse)"
   ]
  },
  {
   "cell_type": "code",
   "execution_count": null,
   "metadata": {},
   "outputs": [],
   "source": []
  }
 ],
 "metadata": {
  "kernelspec": {
   "display_name": "Python 3",
   "language": "python",
   "name": "python3"
  },
  "language_info": {
   "codemirror_mode": {
    "name": "ipython",
    "version": 3
   },
   "file_extension": ".py",
   "mimetype": "text/x-python",
   "name": "python",
   "nbconvert_exporter": "python",
   "pygments_lexer": "ipython3",
   "version": "3.9.6"
  }
 },
 "nbformat": 4,
 "nbformat_minor": 4
}
